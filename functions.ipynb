{
 "cells": [
  {
   "cell_type": "markdown",
   "metadata": {},
   "source": [
    "**Python Functions**"
   ]
  },
  {
   "cell_type": "markdown",
   "metadata": {},
   "source": [
    "⁤Functions in Python are reusable blocks of code that perform a specific task. ⁤⁤They allow you to organize your code into modular, manageable, and logical sections, making it easier to read, debug, and maintain. ⁤⁤Functions are defined using the `def` keyword, followed by the function name and parentheses containing any parameters. ⁤⁤Once defined, a function can be called or invoked by its name, allowing you to execute the code within the function whenever needed. ⁤⁤Functions can also return a value using the `return` statement, making them versatile tools for performing operations and calculations. "
   ]
  },
  {
   "cell_type": "code",
   "execution_count": 1,
   "metadata": {},
   "outputs": [
    {
     "name": "stdout",
     "output_type": "stream",
     "text": [
      "Ziraddin Gulumjanli ZG\n"
     ]
    }
   ],
   "source": [
    "# Let's start with a basic example:\n",
    "\n",
    "def ziraddin(name, surname, initial):    # 'name', 'surname', and 'initial' are parameters\n",
    "    '''\n",
    "    This function takes a name, surname, and initial and concatenates them into a single string.\n",
    "    '''\n",
    "    return name + \" \" + surname + \" \" + initial\n",
    "\n",
    "# Calling the function with arguments\n",
    "print(ziraddin(\"Ziraddin\", \"Gulumjanli\", \"ZG\"))  # 'Ziraddin', 'Gulumjanli', and 'ZG' are arguments"
   ]
  },
  {
   "cell_type": "code",
   "execution_count": 3,
   "metadata": {},
   "outputs": [
    {
     "name": "stdout",
     "output_type": "stream",
     "text": [
      "20\n"
     ]
    }
   ],
   "source": [
    "# Example of a function that returns a value\n",
    "def ziraddin(x):\n",
    "    '''\n",
    "    This function takes a number x and returns the result of the expression 3*x + 5.\n",
    "    '''\n",
    "    return 3 * x + 5\n",
    "\n",
    "# Calling the function and storing the result in a variable\n",
    "result = ziraddin(5)  # Here, we are calling the function with the argument 5\n",
    "print(result)  # Output: 20\n"
   ]
  },
  {
   "cell_type": "markdown",
   "metadata": {},
   "source": [
    "**Multiple paramters in Functions**"
   ]
  },
  {
   "cell_type": "code",
   "execution_count": 4,
   "metadata": {},
   "outputs": [
    {
     "name": "stdout",
     "output_type": "stream",
     "text": [
      "56\n"
     ]
    }
   ],
   "source": [
    "# Example of a function with multiple parameters\n",
    "def ziraddin(x, y):\n",
    "    '''\n",
    "    This function takes two numbers, x and y, and returns the result of the expression 4*x + 7*y + 9.\n",
    "    '''\n",
    "    return 4 * x + 7 * y + 9\n",
    "\n",
    "# Calling the function with two arguments\n",
    "result = ziraddin(3, 5)  # x = 3, y = 5\n",
    "print(result)\n",
    "  # Output: 56\n"
   ]
  },
  {
   "cell_type": "markdown",
   "metadata": {},
   "source": [
    "**Default parameters in Functions**"
   ]
  },
  {
   "cell_type": "code",
   "execution_count": 5,
   "metadata": {},
   "outputs": [
    {
     "name": "stdout",
     "output_type": "stream",
     "text": [
      "56\n",
      "63\n"
     ]
    }
   ],
   "source": [
    "# Example of a function with a default parameter\n",
    "def ziraddin(x, z=6):\n",
    "    '''\n",
    "    This function takes two numbers, x and z, and returns the result of the expression 4*x + 7*z + 9.\n",
    "    If z is not provided, it defaults to 6.\n",
    "    '''\n",
    "    return 4 * x + 7 * z + 9\n",
    "\n",
    "# Calling the function with both arguments\n",
    "result = ziraddin(3, 5)  # x = 3, z = 5\n",
    "print(result)  # Output: 56\n",
    "\n",
    "# Calling the function with one argument\n",
    "result1 = ziraddin(3)    # x = 3, z defaults to 6\n",
    "print(result1)  # Output: 63\n",
    "\n",
    "# note: print(ziraddin(3,5)) is okay\n",
    "# note: print(ziraddin(3)) is okay\n"
   ]
  },
  {
   "cell_type": "code",
   "execution_count": 6,
   "metadata": {},
   "outputs": [
    {
     "name": "stdout",
     "output_type": "stream",
     "text": [
      "2105\n",
      "2392\n",
      "3369\n"
     ]
    }
   ],
   "source": [
    "def polynomial(x, a=1, b=0, c=0):\n",
    "    return a * (x ** 4) + b * x**2 + c*x + 2024\n",
    "\n",
    "print(polynomial(3))               # Calculates: 1 * (3 ** 4) + 0 * (3 ** 2) + 0 * 3 + 2024\n",
    "                                    # Which is: 1 * 81 + 0 + 0 + 2024 = 2105\n",
    "print(polynomial(4, b=7))          # Calculates: 1 * (4 ** 4) + 7 * (4 ** 2) + 0 * 4 + 2024\n",
    "                                    # Which is: 1 * 256 + 7 * 16 + 0 + 2024 = 256 + 112 + 2024 = 2392\n",
    "print(polynomial(5, a=2, b=3, c=4)) # Calculates: 2 * (5 ** 4) + 3 * (5 ** 2) + 4 * 5 + 2024\n",
    "                                    # Which is: 2 * 625 + 3 * 25 + 20 + 2024 = 1250 + 75 + 20 + 2024 = 3369"
   ]
  },
  {
   "cell_type": "markdown",
   "metadata": {},
   "source": [
    "**Using **(*args)** for Variable Number of Arguments**"
   ]
  },
  {
   "cell_type": "markdown",
   "metadata": {},
   "source": [
    "Assume you do not know how many arguments will be passed to the function in advance. In that case you can use *args to  handle a variable number of positional argument."
   ]
  },
  {
   "cell_type": "code",
   "execution_count": 7,
   "metadata": {},
   "outputs": [
    {
     "name": "stdout",
     "output_type": "stream",
     "text": [
      "6\n",
      "9\n",
      "0\n"
     ]
    }
   ],
   "source": [
    "def sum_numbers(*args):\n",
    "    total = 0  # see note\n",
    "    for number in args:\n",
    "        total += number\n",
    "    return total\n",
    "\n",
    "# Examples of usage:\n",
    "print(sum_numbers(1, 2, 3))       # Output: 6\n",
    "print(sum_numbers(4, 5))          # Output: 9\n",
    "print(sum_numbers())              # Output: 0\n",
    "                                    "
   ]
  },
  {
   "cell_type": "markdown",
   "metadata": {},
   "source": [
    "📝\n",
    "Why total = 0?\n",
    "The initial value of 0 is chosen because 0 is the identity element for addition. This means that adding 0 to any number does not change the number. If total were initialized to any other value, the final sum would be incorrect. For example, if total started at 5, calling sum_numbers(1, 2, 3) would result in 11 (5 + 1 + 2 + 3) instead of the correct result, 6."
   ]
  },
  {
   "cell_type": "code",
   "execution_count": 3,
   "metadata": {},
   "outputs": [
    {
     "data": {
      "text/plain": [
       "24"
      ]
     },
     "execution_count": 3,
     "metadata": {},
     "output_type": "execute_result"
    }
   ],
   "source": [
    "# Function with variable number of arguments\n",
    "def multiply(*args):\n",
    "    result = 1 # see note\n",
    "    for num in args:\n",
    "        result *= num\n",
    "    return result\n",
    "# Call the function with multiple arguments\n",
    "multiply(2, 3, 4)                       # Output: 24"
   ]
  },
  {
   "cell_type": "markdown",
   "metadata": {},
   "source": [
    "📝\n",
    "Why result = 1?\n",
    "The initial value of 1 is chosen because 1 is the identity element for multiplication. This means that multiplying any number by 1 does not change the number. If result were initialized to 0 or any other value, the final product would be incorrect. For instance, if result started at 0, calling multiply(2, 3, 4) would result in 0 because multiplying anything by 0 results in 0.\n",
    "Well, there are the other scenarios where the initial values for a result variable might be different from 0 or 1, depending on the operation or the desired outcome. For example ..."
   ]
  },
  {
   "cell_type": "markdown",
   "metadata": {},
   "source": [
    "📝\n",
    "When concatenating strings, the initial value is often an empty string (\"\"), because concatenating with an empty string does not change the original strings."
   ]
  },
  {
   "cell_type": "code",
   "execution_count": 9,
   "metadata": {},
   "outputs": [
    {
     "name": "stdout",
     "output_type": "stream",
     "text": [
      "Hello World!\n",
      "Python is fun\n",
      "\n"
     ]
    }
   ],
   "source": [
    "def concatenate_strings(*args):\n",
    "    result = \"\"\n",
    "    for string in args:\n",
    "        result += string\n",
    "    return result\n",
    "\n",
    "# Examples of usage:\n",
    "print(concatenate_strings(\"Hello\", \" \", \"World\", \"!\"))  # Output: \"Hello World!\"\n",
    "print(concatenate_strings(\"Python\",\" \",\"is\", \" \", \"fun\"))       # Output: \"Pythonisfun\"\n",
    "print(concatenate_strings())     "
   ]
  },
  {
   "cell_type": "markdown",
   "metadata": {},
   "source": [
    "📝\n",
    "When searching for the maximum or minimum value in a collection, initial values might be set to negative or positive infinity, respectively, to ensure the correct resul"
   ]
  },
  {
   "cell_type": "code",
   "execution_count": 12,
   "metadata": {},
   "outputs": [
    {
     "name": "stdout",
     "output_type": "stream",
     "text": [
      "9\n",
      "-1\n",
      "None\n"
     ]
    }
   ],
   "source": [
    "def find_max(*args):\n",
    "    if not args:\n",
    "        return None  # Return None if no arguments are provided\n",
    "    \n",
    "    max_value = float('-inf')  # Negative infinity\n",
    "    for number in args:\n",
    "        if number > max_value:\n",
    "            max_value = number\n",
    "    return max_value\n",
    "\n",
    "# Examples of usage:\n",
    "print(find_max(3, 1, 4, 1, 5, 9))  # Output: 9\n",
    "print(find_max(-7, -8, -3, -1))     # Output: -1\n",
    "print(find_max())                   # Output: None\n"
   ]
  },
  {
   "cell_type": "code",
   "execution_count": 13,
   "metadata": {},
   "outputs": [
    {
     "name": "stdout",
     "output_type": "stream",
     "text": [
      "1\n",
      "-8\n",
      "None\n"
     ]
    }
   ],
   "source": [
    "def find_min(*args):\n",
    "    if not args:\n",
    "        return None  # Return None if no arguments are provided\n",
    "    \n",
    "    min_value = float('inf')  # Positive infinity\n",
    "    for number in args:\n",
    "        if number < min_value:\n",
    "            min_value = number\n",
    "    return min_value\n",
    "\n",
    "# Examples of usage:\n",
    "print(find_min(3, 1, 4, 1, 5, 9))  # Output: 1\n",
    "print(find_min(-7, -8, -3, -1))     # Output: -8\n",
    "print(find_min())                   # Output: None\n"
   ]
  },
  {
   "cell_type": "markdown",
   "metadata": {},
   "source": [
    "\n",
    "\n",
    "**Using **(*kwargs)** for Keyword Arguments**"
   ]
  },
  {
   "cell_type": "markdown",
   "metadata": {},
   "source": [
    "📝\n",
    "Using **kwargs in Python allows a function to accept a variable number of keyword arguments. These arguments are passed to the function as a dictionary where the keys are the argument names, and the values are the argument values."
   ]
  },
  {
   "cell_type": "code",
   "execution_count": 15,
   "metadata": {},
   "outputs": [
    {
     "name": "stdout",
     "output_type": "stream",
     "text": [
      "{'name': 'Alice', 'age': 30, 'city': 'New York'}\n"
     ]
    }
   ],
   "source": [
    "# Function with keyword arguments\n",
    "def display_info(**kwargs):\n",
    "    return kwargs\n",
    "\n",
    "# Call the function with keyword arguments\n",
    "info = display_info(name=\"Alice\", age=30, city=\"New York\")\n",
    "print(info)  # Output: {'name': 'Alice', 'age': 30, 'city': 'New York'}\n"
   ]
  },
  {
   "cell_type": "code",
   "execution_count": 14,
   "metadata": {},
   "outputs": [
    {
     "name": "stdout",
     "output_type": "stream",
     "text": [
      "450.0\n",
      "540.0\n",
      "486.0\n"
     ]
    }
   ],
   "source": [
    "def calculate_total_cost(price, quantity, **kwargs):\n",
    "    total = price * quantity\n",
    "    # Apply discount if provided\n",
    "    if 'discount' in kwargs:\n",
    "        total -= total * (kwargs['discount'] / 100)\n",
    "    # Apply tax if provided\n",
    "    if 'tax' in kwargs:\n",
    "        total += total * (kwargs['tax'] / 100)\n",
    "    return total\n",
    "\n",
    "# Call the function with optional keyword arguments\n",
    "print(calculate_total_cost(100, 5, discount=10))  # Output: 450.0\n",
    "print(calculate_total_cost(100, 5, tax=8))        # Output: 540.0\n",
    "print(calculate_total_cost(100, 5, discount=10, tax=8))  # Output: 486.0\n"
   ]
  },
  {
   "cell_type": "markdown",
   "metadata": {},
   "source": [
    "**High-order functions**"
   ]
  },
  {
   "cell_type": "markdown",
   "metadata": {},
   "source": [
    "Higher-order functions are functions that either take other functions as arguments or return functions as their result. They enable more abstract and flexible code by allowing functions to operate on other functions."
   ]
  },
  {
   "cell_type": "code",
   "execution_count": 8,
   "metadata": {},
   "outputs": [
    {
     "name": "stdout",
     "output_type": "stream",
     "text": [
      "25\n",
      "13\n"
     ]
    }
   ],
   "source": [
    "# Define a higher-order function that takes another function as an argument\n",
    "def apply_operation(operation, value): # apply_operation is a high order function\n",
    "    return operation(value)\n",
    "\n",
    "# Define a simple function that doubles its input\n",
    "def square(number):\n",
    "    return number*number\n",
    "def increment(number):\n",
    "    return number + 8\n",
    "\n",
    "# Use the higher-order function with the simple function\n",
    "print(apply_operation(square, 5))\n",
    "print(apply_operation(increment, 5))\n",
    "\n"
   ]
  },
  {
   "cell_type": "markdown",
   "metadata": {},
   "source": [
    "**Recursive functions**"
   ]
  },
  {
   "cell_type": "markdown",
   "metadata": {},
   "source": [
    "In computer programming, the term recursive describes a function or method that repeatedly calculates a smaller part of itself to arrive at the final result. It is similar to iteration, but instead of repeating a set of operations, a recursive function accomplishes repetition by referring to itself in its own definition [ https://www.computerhope.com/jargon/r/recursive.htm ]\n",
    "\n",
    "A reIn Python, recursive function is defined by two key components: the base case and the recursive case. The **base case** is a condition under which the function ceases to call itself and instead returns a value directly. This prevents infinite recursion and provides a stopping point for the recursion. On the other hand, the **recursive case** is the part of the function where it calls itself with modified arguments, effectively breaking the problem down into smaller, more manageable pieces. This approach allows the function to build up a solution by solving progressively simpler versions of the problem until it reaches the base case."
   ]
  },
  {
   "cell_type": "code",
   "execution_count": 9,
   "metadata": {},
   "outputs": [
    {
     "name": "stdout",
     "output_type": "stream",
     "text": [
      "120\n"
     ]
    }
   ],
   "source": [
    "# Recursive function to calculate factorial\n",
    "def factorial(n):\n",
    "    if n == 0:\n",
    "        return 1  # Base case: factorial of 0 is 1\n",
    "    else:\n",
    "        return n * factorial(n - 1)  # Recursive case: n! = n * (n-1)!\n",
    "\n",
    "# Example usage\n",
    "result = factorial(5)\n",
    "print(result)  \n"
   ]
  },
  {
   "cell_type": "code",
   "execution_count": 15,
   "metadata": {},
   "outputs": [
    {
     "name": "stdout",
     "output_type": "stream",
     "text": [
      "832040\n"
     ]
    }
   ],
   "source": [
    "# Recursive function to calculate Fibonacci numbers\n",
    "def fibonacci(n):\n",
    "    if n == 0:\n",
    "        return 0  # Base case: Fibonacci of 0 is 0\n",
    "    elif n == 1:\n",
    "        return 1  # Base case: Fibonacci of 1 is 1\n",
    "    else:\n",
    "        return fibonacci(n - 1) + fibonacci(n - 2)  # Recursive case\n",
    "\n",
    "# Example usage\n",
    "result = fibonacci(30)\n",
    "print(result)  \n"
   ]
  },
  {
   "cell_type": "markdown",
   "metadata": {},
   "source": [
    "The Tower of Hanoi is a classic mathematical puzzle that can be solved using a recursive algorithm in Python. For more details, please visit [GeeksforGeeks: Python Program for Tower of Hanoi](https://www.geeksforgeeks.org/python-program-for-tower-of-hanoi/)."
   ]
  },
  {
   "cell_type": "code",
   "execution_count": 16,
   "metadata": {},
   "outputs": [
    {
     "name": "stdout",
     "output_type": "stream",
     "text": [
      "Move disk 1 from A to C\n",
      "Move disk 2 from A to B\n",
      "Move disk 1 from C to B\n",
      "Move disk 3 from A to C\n",
      "Move disk 1 from B to A\n",
      "Move disk 2 from B to C\n",
      "Move disk 1 from A to C\n"
     ]
    }
   ],
   "source": [
    "# Recursive function to solve the Tower of Hanoi problem\n",
    "def tower_of_hanoi(n, source, destination, auxiliary):\n",
    "    if n == 1:\n",
    "        print(f\"Move disk 1 from {source} to {destination}\")\n",
    "    else:\n",
    "        # Move n-1 disks from source to auxiliary\n",
    "        tower_of_hanoi(n - 1, source, auxiliary, destination)\n",
    "        # Move the nth disk from source to destination\n",
    "        print(f\"Move disk {n} from {source} to {destination}\")\n",
    "        # Move n-1 disks from auxiliary to destination\n",
    "        tower_of_hanoi(n - 1, auxiliary, destination, source)\n",
    "\n",
    "# Example usage with 3 disks\n",
    "tower_of_hanoi(3, 'A', 'C', 'B')\n"
   ]
  },
  {
   "cell_type": "markdown",
   "metadata": {},
   "source": [
    "**Nested function**"
   ]
  },
  {
   "cell_type": "markdown",
   "metadata": {},
   "source": [
    "A function with a nested function is a function that contains another function defined within its body. The inner function is often used to encapsulate a specific piece of logic that is only relevant within the scope of the outer function. This technique helps in organizing code, maintaining encapsulation, and reducing redundancy"
   ]
  },
  {
   "cell_type": "code",
   "execution_count": 17,
   "metadata": {},
   "outputs": [
    {
     "name": "stdout",
     "output_type": "stream",
     "text": [
      "17\n"
     ]
    }
   ],
   "source": [
    "# Outer function to apply an operation to a number\n",
    "def process_number(n):\n",
    "    # Nested function to square a number\n",
    "    def square(x):\n",
    "        return x * x\n",
    "    \n",
    "    # Use the nested function and then increment the result\n",
    "    squared_value = square(n)\n",
    "    incremented_value = squared_value + 1\n",
    "    \n",
    "    return incremented_value\n",
    "\n",
    "# Example usage\n",
    "result = process_number(4)\n",
    "print(result)  # Outputs: 17\n"
   ]
  },
  {
   "cell_type": "markdown",
   "metadata": {},
   "source": [
    "**Decorator Functions**"
   ]
  },
  {
   "cell_type": "markdown",
   "metadata": {},
   "source": [
    "A decorator in Python is a design pattern that allows you to modify or enhance the behavior of a function or method without changing its definition"
   ]
  },
  {
   "cell_type": "code",
   "execution_count": 18,
   "metadata": {},
   "outputs": [
    {
     "name": "stdout",
     "output_type": "stream",
     "text": [
      "Wrapper executed this before display\n",
      "Display function ran\n"
     ]
    }
   ],
   "source": [
    "# Decorator function\n",
    "def decorator_func(original_func):\n",
    "    def wrapper_func():\n",
    "        # Print message before calling the original function\n",
    "        print(\"Wrapper executed this before {}\".format(original_func.__name__))\n",
    "        # Call the original function and return its result\n",
    "        return original_func()\n",
    "    return wrapper_func\n",
    "\n",
    "# Function to be decorated\n",
    "@decorator_func\n",
    "def display():\n",
    "    print(\"Display function ran\")\n",
    "\n",
    "# Call the decorated function\n",
    "display()\n"
   ]
  },
  {
   "cell_type": "markdown",
   "metadata": {},
   "source": [
    "📝\n",
    "In this example above, the decorator decorator_func enhances the display function by adding a message before the original function runs. This demonstrates how decorators can be used to add pre-processing or post-processing to functions in a clean and reusable way."
   ]
  },
  {
   "cell_type": "markdown",
   "metadata": {},
   "source": [
    "**Lambda Function**"
   ]
  },
  {
   "cell_type": "markdown",
   "metadata": {},
   "source": [
    "Lambda functions, also known as anonymous functions, are small, unnamed functions defined using the 'lambda' keyword. They are useful for short, simple functions that are not reused elsewhere."
   ]
  },
  {
   "cell_type": "code",
   "execution_count": 1,
   "metadata": {},
   "outputs": [
    {
     "name": "stdout",
     "output_type": "stream",
     "text": [
      "25\n",
      "7\n",
      "[1, 4, 9, 16, 25]\n",
      "[2, 4]\n",
      "['Bob', 'Alice', 'Charlie']\n",
      "20\n"
     ]
    }
   ],
   "source": [
    "# Syntax of a Lambda Function:\n",
    "# lambda arguments: expression\n",
    "\n",
    "# Example 1: Basic Lambda Function\n",
    "square = lambda x: x * x  # A lambda function that squares its input\n",
    "\n",
    "# Example usage\n",
    "print(square(5))  # Output: 25\n",
    "\n",
    "# Explanation:\n",
    "# - The lambda function takes one argument 'x' and returns 'x * x'.\n",
    "# - It is equivalent to defining a function with 'def' but more concise for simple operations.\n",
    "\n",
    "# Example 2: Lambda Function with Multiple Arguments\n",
    "add = lambda x, y: x + y  # A lambda function that adds two numbers\n",
    "\n",
    "# Example usage\n",
    "print(add(3, 4))  # Output: 7\n",
    "\n",
    "# Explanation:\n",
    "# - The lambda function takes two arguments 'x' and 'y' and returns their sum.\n",
    "# - Useful for small operations where defining a full function with 'def' would be overkill.\n",
    "\n",
    "# Example 3: Using Lambda Functions with Higher-Order Functions\n",
    "# Lambda functions are often used in conjunction with higher-order functions like map(), filter(), and sorted().\n",
    "\n",
    "# Using lambda with map()\n",
    "numbers = [1, 2, 3, 4, 5]\n",
    "squared_numbers = list(map(lambda x: x * x, numbers))\n",
    "print(squared_numbers)  # Output: [1, 4, 9, 16, 25]\n",
    "\n",
    "# Using lambda with filter()\n",
    "even_numbers = list(filter(lambda x: x % 2 == 0, numbers))\n",
    "print(even_numbers)  # Output: [2, 4]\n",
    "\n",
    "# Using lambda with sorted() for custom sorting\n",
    "names = ['Alice', 'Bob', 'Charlie']\n",
    "sorted_names = sorted(names, key=lambda name: len(name))  # Sort names by length\n",
    "print(sorted_names)  # Output: ['Bob', 'Alice', 'Charlie']\n",
    "\n",
    "# Explanation:\n",
    "# - Lambda functions provide a quick and concise way to define simple functions for single-use purposes.\n",
    "# - They are particularly useful in combination with higher-order functions where a full function definition would be unnecessary.\n",
    "\n",
    "# Example 4: More Complex Lambda Usage with Conditional Logic\n",
    "# Although lambda functions are limited to a single expression, they can still include conditional logic.\n",
    "\n",
    "max_value = lambda a, b: a if a > b else b  # Lambda function to find the maximum of two numbers\n",
    "\n",
    "# Example usage\n",
    "print(max_value(10, 20))  # Output: 20\n",
    "\n",
    "# Explanation:\n",
    "# - The lambda function uses a conditional expression to return the maximum of two numbers.\n",
    "\n",
    "# Limitations of Lambda Functions:\n",
    "# - **Single Expression**: Lambda functions are limited to a single expression. They cannot contain multiple statements or complex logic.\n",
    "# - **Readability**: For more complex functions, using 'def' with a proper function name and documentation is often more readable.\n",
    "# - **No Annotations**: Lambda functions do not support function annotations, which can limit their usability in some contexts.\n",
    "\n",
    "# Example 5: When to Use 'def' Instead of Lambda\n",
    "# If your function logic is more complex or requires documentation, use 'def'.\n",
    "\n",
    "def complex_function(x, y):\n",
    "    \"\"\"\n",
    "    This function performs a complex calculation on two inputs.\n",
    "    \"\"\"\n",
    "    if x > 0:\n",
    "        return x + y\n",
    "    else:\n",
    "        return x - y\n",
    "\n",
    "# This is more readable and maintainable than using a lambda for complex logic.\n",
    "\n",
    "# Practical Use Cases for Lambda Functions:\n",
    "# - **Simple Callbacks**: For example, in event handling or asynchronous programming.\n",
    "# - **Short One-liners**: Whenever you need a quick, simple function for a one-time use.\n",
    "# - **Functional Programming**: Lambda functions are perfect for short operations in functional programming paradigms with 'map', 'filter', 'reduce', etc.\n"
   ]
  },
  {
   "cell_type": "markdown",
   "metadata": {},
   "source": [
    "In this tutorial, we covered a wide range of topics related to Python functions. We began with **basic function definitions**, exploring how to define and call functions with different numbers of parameters. We also discussed the use of **default parameters**, which allow functions to be more flexible by providing default values for some arguments. Next, we delved into **variable-length arguments** using `*args` and `**kwargs`, which enable functions to accept a variable number of arguments. We then explored **higher-order functions**, which are functions that take other functions as arguments or return functions as results, showcasing the versatility and power of Python functions.\n",
    "\n",
    "We also covered **recursive functions**, which are functions that call themselves to solve problems that can be broken down into smaller, repetitive subproblems. This was followed by a look at **nested functions and closures**, demonstrating how to define functions inside other functions and maintain state using closures. We examined **decorators**, which allow us to enhance the behavior of functions without modifying their structure, providing a powerful tool for extending functionality in a clean and readable way. Lastly, we discussed **lambda functions**, which are small, anonymous functions useful for short, simple operations.\n",
    "\n",
    "To reinforce these concepts, several practice exercises are suggested: defining a function that takes an indefinite number of arguments and returns their average, creating a decorator to log the time taken by a function to execute, writing a recursive function to compute the greatest common divisor (GCD) of two numbers, and using a lambda function to sort a list of tuples by the second element in each tuple. For further reading and to deepen your understanding of Python functions, you can consult resources like the\n",
    "[Python Official Documentation on Functions](https://docs.python.org/3/tutorial/controlflow.html#defining-functions), [Real Python: Python Functions](https://realpython.com/defining-your-own-python-function/), [GeeksforGeeks: Python Lambda Functions](https://www.geeksforgeeks.org/python-lambda-anonymous-functions-filter-map-reduce/), and [Python Decorators: A Complete Guide](https://realpython.com/primer-on-python-decorators/).\n",
    "**ZIRADDIN GULUMJANLI 2024**"
   ]
  }
 ],
 "metadata": {
  "kernelspec": {
   "display_name": "Python 3",
   "language": "python",
   "name": "python3"
  },
  "language_info": {
   "codemirror_mode": {
    "name": "ipython",
    "version": 3
   },
   "file_extension": ".py",
   "mimetype": "text/x-python",
   "name": "python",
   "nbconvert_exporter": "python",
   "pygments_lexer": "ipython3",
   "version": "3.11.4"
  }
 },
 "nbformat": 4,
 "nbformat_minor": 2
}
